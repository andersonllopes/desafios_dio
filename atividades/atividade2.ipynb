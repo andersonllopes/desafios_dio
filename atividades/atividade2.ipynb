{
 "cells": [
  {
   "cell_type": "code",
   "execution_count": 2,
   "id": "f9502322",
   "metadata": {},
   "outputs": [
    {
     "name": "stdout",
     "output_type": "stream",
     "text": [
      "Quartos disponíveis: 101 102 103 104\n",
      "Reservas solicitadas: 102 105 101 103\n",
      "Reservas confirmadas: 102 101 103\n",
      "Reservas recusadas: 105\n",
      "\n",
      "Quartos disponíveis: 201 202 203 204 205\n",
      "Reservas solicitadas: 205 202 208 201 203\n",
      "Reservas confirmadas: 205 202 201 203\n",
      "Reservas recusadas: 208\n",
      "\n",
      "Quartos disponíveis: 10 20 30 40 50\n",
      "Reservas solicitadas: 25 30 10 40 50 60\n",
      "Reservas confirmadas: 30 10 40 50\n",
      "Reservas recusadas: 25 60\n",
      "\n"
     ]
    }
   ],
   "source": [
    "def processar_reservas(quartos_disponiveis, reservas_solicitadas):\n",
    "    # Converter a lista de quartos disponíveis para um conjunto\n",
    "    disponiveis = set(quartos_disponiveis)\n",
    "    \n",
    "    # Listas para armazenar os resultados\n",
    "    confirmadas = []\n",
    "    recusadas = []\n",
    "\n",
    "    # Processamento das reservas\n",
    "    for quarto in reservas_solicitadas:\n",
    "        if quarto in disponiveis:\n",
    "            confirmadas.append(quarto)\n",
    "            disponiveis.remove(quarto)\n",
    "        else:\n",
    "            recusadas.append(quarto)\n",
    "\n",
    "    # Saída dos resultados\n",
    "    print(\"Quartos disponíveis:\", \" \".join(map(str, quartos_disponiveis)))\n",
    "    print(\"Reservas solicitadas:\", \" \".join(map(str, reservas_solicitadas)))\n",
    "    print(\"Reservas confirmadas:\", \" \".join(map(str, confirmadas)))\n",
    "    print(\"Reservas recusadas:\", \" \".join(map(str, recusadas)))\n",
    "    print()  # Linha em branco para separar os casos de teste\n",
    "\n",
    "# Casos de teste\n",
    "caso1_quartos = [101, 102, 103, 104]\n",
    "caso1_reservas = [102, 105, 101, 103]\n",
    "\n",
    "caso2_quartos = [201, 202, 203, 204, 205]\n",
    "caso2_reservas = [205, 202, 208, 201, 203]\n",
    "\n",
    "caso3_quartos = [10, 20, 30, 40, 50]\n",
    "caso3_reservas = [25, 30, 10, 40, 50, 60]\n",
    "\n",
    "# Processar cada caso de teste\n",
    "processar_reservas(caso1_quartos, caso1_reservas)\n",
    "processar_reservas(caso2_quartos, caso2_reservas)\n",
    "processar_reservas(caso3_quartos, caso3_reservas)"
   ]
  }
 ],
 "metadata": {
  "kernelspec": {
   "display_name": "Python 3",
   "language": "python",
   "name": "python3"
  },
  "language_info": {
   "codemirror_mode": {
    "name": "ipython",
    "version": 3
   },
   "file_extension": ".py",
   "mimetype": "text/x-python",
   "name": "python",
   "nbconvert_exporter": "python",
   "pygments_lexer": "ipython3",
   "version": "undefined.undefined.undefined"
  }
 },
 "nbformat": 4,
 "nbformat_minor": 5
}
