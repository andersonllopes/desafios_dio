{
 "cells": [
  {
   "cell_type": "code",
   "execution_count": null,
   "id": "f9502322",
   "metadata": {},
   "outputs": [
    {
     "name": "stdout",
     "output_type": "stream",
     "text": [
      "Teste 1 - Esperado: Bruno, Ana, Carlos\n",
      "Ordem de Atendimento: Bruno, Ana, Carlos\n",
      "\n",
      "Teste 2 - Esperado: Tiago, Amanda, Ricardo, Paula\n",
      "Ordem de Atendimento: Tiago, Amanda, Ricardo, Paula\n",
      "\n",
      "Teste 3 - Esperado: Pedro, Maria, João, Lucas, Fernanda\n",
      "Ordem de Atendimento: Pedro, Maria, João, Lucas, Fernanda\n"
     ]
    }
   ],
   "source": [
    "def ordenar_pacientes(pacientes):\n",
    "    # Adiciona índice original para manter a ordem de chegada\n",
    "    pacientes_com_indice = [(nome, idade, status, i) for i, (nome, idade, status) in enumerate(pacientes)]\n",
    "\n",
    "    def obter_chave(paciente):\n",
    "        nome, idade, status, idx = paciente\n",
    "        if status == \"urgente\":\n",
    "            return (0, -idade, idx)\n",
    "        elif idade >= 60:\n",
    "            return (1, idx)\n",
    "        else:\n",
    "            return (2, idx)\n",
    "\n",
    "    pacientes_ordenados = sorted(pacientes_com_indice, key=lambda x: (obter_chave(x)[0], *obter_chave(x)[1:]))\n",
    "    return [paciente[0] for paciente in pacientes_ordenados]\n",
    "\n",
    "# Teste 1\n",
    "pacientes1 = [\n",
    "    (\"Carlos\", 40, \"normal\"),\n",
    "    (\"Ana\", 70, \"normal\"),\n",
    "    (\"Bruno\", 30, \"urgente\")\n",
    "]\n",
    "print(\"Teste 1 - Esperado: Bruno, Ana, Carlos\")\n",
    "print(\"Ordem de Atendimento:\", \", \".join(ordenar_pacientes(pacientes1)))\n",
    "print()\n",
    "\n",
    "# Teste 2\n",
    "pacientes2 = [\n",
    "    (\"Paula\", 30, \"normal\"),\n",
    "    (\"Ricardo\", 60, \"normal\"),\n",
    "    (\"Tiago\", 60, \"urgente\"),\n",
    "    (\"Amanda\", 50, \"urgente\")\n",
    "]\n",
    "print(\"Teste 2 - Esperado: Tiago, Amanda, Ricardo, Paula\")\n",
    "print(\"Ordem de Atendimento:\", \", \".join(ordenar_pacientes(pacientes2)))\n",
    "print()\n",
    "\n",
    "# Teste 3\n",
    "pacientes3 = [\n",
    "    (\"João\", 65, \"normal\"),\n",
    "    (\"Maria\", 80, \"urgente\"),\n",
    "    (\"Lucas\", 50, \"normal\"),\n",
    "    (\"Fernanda\", 25, \"normal\"),\n",
    "    (\"Pedro\", 90, \"urgente\")\n",
    "]\n",
    "print(\"Teste 3 - Esperado: Pedro, Maria, João, Lucas, Fernanda\")\n",
    "print(\"Ordem de Atendimento:\", \", \".join(ordenar_pacientes(pacientes3)))\n"
   ]
  }
 ],
 "metadata": {
  "kernelspec": {
   "display_name": "Python 3",
   "language": "python",
   "name": "python3"
  },
  "language_info": {
   "codemirror_mode": {
    "name": "ipython",
    "version": 3
   },
   "file_extension": ".py",
   "mimetype": "text/x-python",
   "name": "python",
   "nbconvert_exporter": "python",
   "pygments_lexer": "ipython3",
   "version": "3.13.3"
  }
 },
 "nbformat": 4,
 "nbformat_minor": 5
}
